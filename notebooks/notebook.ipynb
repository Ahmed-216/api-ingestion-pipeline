{
 "cells": [
  {
   "cell_type": "markdown",
   "id": "e881c54e",
   "metadata": {},
   "source": [
    "Jupyter Notebook for exploratory scripts"
   ]
  }
 ],
 "metadata": {
  "kernelspec": {
   "display_name": "data-pipeline-sample-CZ9lhvhv-py3.9",
   "language": "python",
   "name": "python3"
  },
  "language_info": {
   "codemirror_mode": {
    "name": "ipython",
    "version": 3
   },
   "file_extension": ".py",
   "mimetype": "text/x-python",
   "name": "python",
   "nbconvert_exporter": "python",
   "pygments_lexer": "ipython3",
   "version": "3.9.22"
  }
 },
 "nbformat": 4,
 "nbformat_minor": 5
}
