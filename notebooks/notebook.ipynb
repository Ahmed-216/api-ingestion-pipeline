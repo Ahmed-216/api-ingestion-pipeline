{
 "cells": [
  {
   "cell_type": "markdown",
   "id": "e881c54e",
   "metadata": {},
   "source": [
    "Jupyter Notebook for exploratory scripts"
   ]
  }
 ],
 "metadata": {
  "language_info": {
   "name": "python"
  }
 },
 "nbformat": 4,
 "nbformat_minor": 5
}
